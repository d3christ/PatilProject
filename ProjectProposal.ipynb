{
 "cells": [
  {
   "cell_type": "markdown",
   "metadata": {},
   "source": [
    "# COGS 108 - Assignment 4: Project Proposal"
   ]
  },
  {
   "cell_type": "markdown",
   "metadata": {},
   "source": [
    "## Important\n",
    "\n",
    "- Make sure all group member (3-5 people) are listed in the group members section.\n",
    "- ONE, and only one, member of your group should upload this notebook to TritonED. \n",
    "- Each member of the group will receive the same grade on this assignment. \n",
    "- Keep the file name the same: submit the file 'A4_ProjectProposal.ipynb'"
   ]
  },
  {
   "cell_type": "markdown",
   "metadata": {},
   "source": [
    "## Overview"
   ]
  },
  {
   "cell_type": "markdown",
   "metadata": {},
   "source": [
    "Read the project description, and detailed instructions for this assignment, in the 'A4_ProjectOutlineAndProposal' pdf."
   ]
  },
  {
   "cell_type": "markdown",
   "metadata": {},
   "source": [
    "## Group Members: Fill in the Student ID's of each group member here\n",
    "- A1280174\n",
    "- A14165422\n",
    "- A14283761\n",
    "- A13197830"
   ]
  },
  {
   "cell_type": "markdown",
   "metadata": {},
   "source": [
    "### Research Question\n",
    "\n",
    "What is your research question? (1-2 sentences)\n",
    "Our research question is oriented around the implicit issues regarding motor vehicle accidents (MVAs) in the city of San Diego. "
   ]
  },
  {
   "cell_type": "markdown",
   "metadata": {},
   "source": [
    "#### Main Point: San Diego Infrastructure (Though it could be cliche, as other groups might have the same idea)\n",
    "\n",
    "\n",
    "#### Possible Question (1): ####\n",
    "Is there a strong correlation between unsafe roads and MVA's? (Motor Vehicle Accidents) or are there other factors in play too? Are areas of the current San Diego Infrastructure (roads) truly inefficient/unsafe? "
   ]
  },
  {
   "cell_type": "markdown",
   "metadata": {},
   "source": [
    "### Hypothesis\n",
    "\n",
    "What is your prediction (2-3 sentences):\n",
    "Our prediction as a group is that there may be a strong correlation between unsafe street conditions and MVA's (i.e. the more worse the street condition, the more MVA's there will be). However, there is also the possibility that MVAs within San Diego have implications regarding a variety of different characteristics of the city itself. There may also be potential problems oriented around infrastructure, such as the nature of obtaining drivers licenses, or maybe even the state in which drivers are operating the vehicles themselves.  "
   ]
  },
  {
   "cell_type": "markdown",
   "metadata": {},
   "source": [
    "#### Answer (1): ###\n",
    "There are many potential answers to the variety of different problems inherent within our research question. Having MVA's be strictly related to street conditions seems highly unlikely. Thus, our answers could be oriented around distributing more money towards things that improve infrastructure, or it could be dealing with issues regarding the nature of transportation (e.g. there needs to be more money put into public transportation). Or our answers could revolve around the potential issues oriented around the process of obtaining drivers licenses within the United States. "
   ]
  },
  {
   "cell_type": "markdown",
   "metadata": {},
   "source": [
    "### Dataset(s)\n",
    "\n",
    "What data will you use to answer your question? Describe the dataset in terms of number of observations, what kind of features it contains, etc. You must use at least one dataset containing at least approximately 1000 observations (if your data are smaller but you feel they are sufficient, email Prof. Voytek). You are welcome (and in fact recommended) to find multiple datasets! If you do so, describe each one, and briefly explain how you will combine them together. "
   ]
  },
  {
   "cell_type": "markdown",
   "metadata": {},
   "source": [
    "*Fill in your dataset information here*\n",
    "\n",
    "(Copy this information for each dataset)\n",
    "\n",
    "#### Data Set 1: ####\n",
    "- Dataset Name: Car Accidents in San Diego (2014) *Might be outdated\n",
    "- Link to the dataset: http://www.city-data.com/accidents/acc-San-Diego-California.html\n",
    "- Number of observations: ~482\n",
    "- Description: This is a dataset in which car accidents are described by their date, possible reason, and location.\n",
    "\n",
    "#### Data Set 2: ####\n",
    "- Dataset Name: Overall Street Conditions in San Diego (2015) \n",
    "- Link to the dataset: https://data.sandiego.gov/datasets/streets-overall-condition-index/\n",
    "- Number of observations: ~ 300\n",
    "- Description: This is the dataset in which we will measure street conditions based on a standardized index. \n",
    "\n",
    "If you plan to use multiple datasets, add 1-2 sentences about how you plan to combine these datasets.\n",
    "\n",
    "#### Using multiples:\n",
    "- We plan to use these datasets in conjunction which each other to show whether or not there is an association between the 2. Then, we plan to discuss the intricacies of whether or not there is a clear causation. "
   ]
  },
  {
   "cell_type": "markdown",
   "metadata": {},
   "source": [
    "### Background & Prior Work\n",
    "\n",
    "Why is this question of interest, what background information led you to your hypothesis, and why is this important?\n",
    "\n",
    "Find some relevant prior work, and reference them. Even if you think you have a totally novel question, find the most similar prior work you can, and discuss how it relates to your project. \n",
    "\n",
    "References can be research publications, but they need not be: blogs, github repositories, company websites, etc., are viable references if they are relevant to your project.\n",
    "\n",
    "(2-3 paragraphs, including at least 2 references)"
   ]
  },
  {
   "cell_type": "markdown",
   "metadata": {},
   "source": [
    "*Fill in your background and prior work here*\n",
    "\n",
    "The background of our research question originates from each members' inherent interest in the prevalence of MVAs within the United States as a whole. Considering the fact that there is such a high prevalence of MVAs in the US, it was hard for each of us within this research group to not question why this might occur in the first place. \n",
    "    As soon as we identified the fact that this is the research question we would be investigating from the perspective of data science, we immediately started looking for any public information regarding MVAs, but more specifically, MVAs within the city of San Diego. After some deep research, we were able to find said data, and from these sources, we started to build up on our ideas regarding how we would analyze and integrate the data into a presentable form. \n",
    "\n",
    "\n",
    "Referencess (include a link):\n",
    "- 1) http://asirt.org/initiatives/informing-road-users/road-safety-facts/road-crash-statistics\n",
    "\n",
    "\n",
    "- 2) http://timesofsandiego.com/tech/2017/02/22/san-diego-installing-smart-city-network-with-sensors-on-3200-streetlights/"
   ]
  },
  {
   "cell_type": "markdown",
   "metadata": {},
   "source": [
    "### Proposed Methods\n",
    "\n",
    "What methods will you use to analyze your data?\n",
    "\n",
    "- How 'clean' is the data? To the extent that it requires cleaning, how will you do so?\n",
    "- How will you analyze the data? Be as specific as you can. Briefly mention any pre-processing steps that are required for your methods (for example, checking data distributions and performing any transformations that may be required). Include a brief outline of how you will apply your chosen method(s). \n",
    "- What do you plan to report? Briefly mention any key visualizations you plan to create, and/or the kind of result you will be able to report that addresses your question (this could be, for example, the outcome of some statistical test(s), prediction error on a model, a model fit parameter, etc.).\n",
    "- Include a list of packages you expect to use for you project. If you plan to use packages we have not used in class, add a very brief description about them (a few words is sufficient). "
   ]
  },
  {
   "cell_type": "markdown",
   "metadata": {},
   "source": [
    "*Fill in your proposed methods information here:*\n",
    "\n",
    "*Data Cleaning (2-3 sentences)*\n",
    "    In regards to data cleaning, the main concern is identifying what it is we do not want in the presented data in the final project. Having discussed this, we as a group decided that the data cleaning process will be entirely devoted to ensuring that our data sets include time, location, and age. Using data cleaning, we will simply exclude any variable that do not coincide with the 3 aforementioned characteristics. \n",
    "\n",
    "*Data Analysis (1-2 paragraphs)*\n",
    "    There are going to be various ways we as group analyze our data sets. The first method will be oriented around heavily prioritizing our data oriented around the accident itself. This data will have many potential implicit implications regarding whether or not there were infrastructural issues, or whether or not, for example, the driver(s) in question were under any kind of drug-oriented influence. Once this data is organized, our plan as a group is to implement said data onto an actual map of the city of San Diego. Once this is done, it is our plan to clearly show the locations throughout the city that have the highest and lowest rates of MVAs. Depending on what this data shows, we could end up doing data analysis using bar graphs to represent how time or age affect the prevalence of MVAs. However, being that we have not actually fully analyzed the data itself, it is hard to tell what exactly we will do in regards to the actual data analysis. Despite this, we know for certain that we will be using a map to show the distribution of MVAs as a whole.   \n",
    "\n",
    "*What to report (2-3 sentences)*\n",
    "    As previously mentioned, we plan definitely plan to report where and when the accidents themselves occurred. Again, this information will be distributed on their corresponding locations, with certain colors indicating the overall prevalence of MVAs within said areas. If age turns out to be a relevant characteristic, then we will take the appropriate methods in ensuring that this variable is represented to the standards it calls for. \n",
    "\n",
    "Packages we plan to use:\n",
    "- a pandas\n",
    "- b matplotlib.pyplot\n",
    "- c numpy\n",
    "- d (Stats based API) "
   ]
  },
  {
   "cell_type": "markdown",
   "metadata": {},
   "source": [
    "### Discussion\n",
    "\n",
    "What are the pitfalls and potential confounds of your data and/or methods? For example, how might biases in your data sources or analyses influence your interpretations? What will you do if you methods don't work and/or your hypotheses are wrong?\n",
    "\n",
    "(2-3 paragraphs)"
   ]
  },
  {
   "cell_type": "markdown",
   "metadata": {},
   "source": [
    "There are a variety of potential confounds when it comes to our data project. When it comes to determining why accidents occur within San Diego, or even as a whole, you could potentially deal with a lot more than just variable regarding time, age, and location. In fact, you could be dealing with the mentality inherent in American culture. For example, a variable that could affect the level of car crashes in San Diego could be oriented around the fact that Americans are inherently more attracted to the idea of owning and operating their own vehicles, in comparison to European culture, which is more heavily reliant on public transportation. \n",
    "    Another potential confound could deal with the way in which motor vehicle companies have monopolized the way in which Americans travel in the first place. For example, General Motors bought out many forms of public transportation within the Los Angeles area, which inevitably forced residents to purchase vehicles instead of using public transportation. \n",
    "    Regardless, the variables mentioned above would be extremely hard to do actual data analysis on, considering the fact that there really is not any kind of relevant data oriented around these two topics, despite the fact that they could be potentially influencing our research question. "
   ]
  },
  {
   "cell_type": "code",
   "execution_count": null,
   "metadata": {
    "collapsed": true
   },
   "outputs": [],
   "source": []
  }
 ],
 "metadata": {
  "kernelspec": {
   "display_name": "Python 3",
   "language": "python",
   "name": "python3"
  },
  "language_info": {
   "codemirror_mode": {
    "name": "ipython",
    "version": 3
   },
   "file_extension": ".py",
   "mimetype": "text/x-python",
   "name": "python",
   "nbconvert_exporter": "python",
   "pygments_lexer": "ipython3",
   "version": "3.6.0"
  }
 },
 "nbformat": 4,
 "nbformat_minor": 2
}
